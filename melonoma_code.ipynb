{
 "cells": [
  {
   "cell_type": "code",
   "execution_count": null,
   "metadata": {
    "vscode": {
     "languageId": "r"
    }
   },
   "outputs": [],
   "source": [
    "library(Seurat)\n",
    "library(GSVA)\n",
    "\n",
    "library(ggplot2)\n",
    "library(ggpubr)\n",
    "library(ggtext)\n",
    "library(ggrepel)\n",
    "library(ComplexHeatmap)\n",
    "library(cowplot)\n",
    "\n",
    "library(reshape2)\n",
    "\n",
    "library(survival)\n",
    "library(survminer)"
   ]
  },
  {
   "cell_type": "code",
   "execution_count": null,
   "metadata": {
    "vscode": {
     "languageId": "r"
    }
   },
   "outputs": [],
   "source": [
    "#路径\n",
    "seu <- readRDS(\"\")                                              #单细胞seurat rds对象位置\n",
    "meta <- read.csv(\"\", row.names = 1)                             #scRank预测结果\n",
    "figurePath <- \"\"                                                #数据保存位置\n",
    "if (!dir.exists(figurePath)) {\n",
    "    dir.create(figurePath, recursive = T)\n",
    "}\n",
    "dataPath <- \"\"                                                  #bulk数据位置\n",
    "\n",
    "pvalue_threshold=0.01                                           #findmarker p值阈值\n",
    "\n",
    "log2FoldChange_threshold=1                     #log2FoldChange_threshold阈值，高于log2FoldChange_threshold被定义为NR相关基因"
   ]
  },
  {
   "cell_type": "code",
   "execution_count": null,
   "metadata": {
    "vscode": {
     "languageId": "r"
    }
   },
   "outputs": [],
   "source": [
    "# 函数定义\n",
    "# 火山图函数\n",
    "plot_Volcano_2 <- function(result, logFC = 0.5, p_val = 0.05, label_geneset = NULL) {\n",
    "    result$change <- \"NONE\"\n",
    "    result$change[which(result$log2FoldChange >= logFC & result$p_val <= p_val)] <- \"UP\"\n",
    "    result$change[which(result$log2FoldChange <= (-logFC) & result$p_val <= p_val)] <- \"DOWN\"\n",
    "    xlim <- max(abs(result$log2FoldChange))\n",
    "    if (is.null(label_geneset)) {\n",
    "        p <- ggplot(result, aes(x = log2FoldChange, y = -log10(p_val))) +\n",
    "            geom_point(data = result, aes(x = log2FoldChange, y = -log10(p_val), color = change)) +\n",
    "            theme_bw() +\n",
    "            geom_vline(xintercept = c(-logFC, logFC), lty = 2) +\n",
    "            geom_hline(yintercept = c(-log10(p_val)), lty = 2) +\n",
    "            scale_x_continuous(limits = c(-xlim, xlim)) +\n",
    "            coord_fixed(ratio = (2 * xlim) / (max(-log10(result$p_val), na.rm = T))) +\n",
    "            theme(\n",
    "                panel.grid = element_blank(), legend.title = element_blank(),\n",
    "                panel.grid.minor = element_blank(),\n",
    "                axis.text = element_text(color = \"black\")\n",
    "            ) +\n",
    "            xlab(\"log2FoldChange\") +\n",
    "            ylab(\"-log10P-value\") +\n",
    "            scale_color_manual(values = c(\"NONE\" = \"grey\", \"UP\" = \"red\", \"DOWN\" = \"blue\")) +\n",
    "            guides(fill = FALSE)\n",
    "    } else {\n",
    "        p <- ggplot(result, aes(x = log2FoldChange, y = -log10(p_val))) +\n",
    "            geom_point(data = result, aes(x = log2FoldChange, y = -log10(p_val), color = change)) +\n",
    "            geom_label_repel(\n",
    "                data = result[which(result$gene %in% label_geneset), ],\n",
    "                aes(x = log2FoldChange, y = -log10(p_val), label = gene, fill = change), color = \"white\", fontface = \"italic\"\n",
    "            ) +\n",
    "            theme_bw() +\n",
    "            geom_vline(xintercept = c(-logFC, logFC), lty = 2) +\n",
    "            geom_hline(yintercept = c(-log10(p_val)), lty = 2) +\n",
    "            scale_x_continuous(limits = c(-xlim, xlim)) +\n",
    "            coord_fixed(ratio = (2 * xlim) / (max(-log10(result$p_val), na.rm = T))) +\n",
    "            theme(\n",
    "                panel.grid = element_blank(), legend.title = element_blank(),\n",
    "                panel.grid.minor = element_blank(),\n",
    "                axis.text = element_text(color = \"black\")\n",
    "            ) +\n",
    "            xlab(\"log2FoldChange\") +\n",
    "            ylab(\"-log10P-value\") +\n",
    "            scale_color_manual(values = c(\"UP\" = \"red\", \"DOWN\" = \"blue\", \"NONE\" = \"grey\")) +\n",
    "            scale_fill_manual(values = c(\"UP\" = \"red\", \"DOWN\" = \"blue\", \"NONE\" = \"grey\")) +\n",
    "            guides(fill = FALSE)\n",
    "    }\n",
    "    return(p)\n",
    "}\n",
    "\n",
    "## GSEA function\n",
    "GSEAfunc <- function(meta, score) {\n",
    "    data_combined <- cbind(meta, score = as.numeric(score))\n",
    "    p <- ggboxplot(data_combined,\n",
    "        x = \"Response\", y = \"score\",\n",
    "        color = \"Response\", palette = c(\"#00AFBB\", \"#E7B800\"),\n",
    "        add = \"jitter\"\n",
    "    )\n",
    "    my_comparisons <- list(c(\"R\", \"NR\"))\n",
    "    p <- p + stat_compare_means(comparisons = my_comparisons, label = \"p.label\", size = 5, method = \"wilcox.test\")\n",
    "\n",
    "    return(p)\n",
    "}"
   ]
  },
  {
   "cell_type": "code",
   "execution_count": null,
   "metadata": {
    "vscode": {
     "languageId": "r"
    }
   },
   "outputs": [],
   "source": [
    "colnames(meta) = c(\"Reject\", \"Pred_score\", \"Predict\")\n",
    "table(meta$Predict)\n",
    "seu <- AddMetaData(seu, meta)"
   ]
  },
  {
   "cell_type": "code",
   "execution_count": null,
   "metadata": {
    "vscode": {
     "languageId": "r"
    }
   },
   "outputs": [],
   "source": [
    "# DimPlot\n",
    "p=DimPlot(seu, group.by = c(\"Predict\"), cols = c(\"Background\" = \"gray91\", \"Rank-\" = \"#4cb1c4\", \"Rank+\" = \"#b5182b\"))\n",
    "png(paste0(figurePath, \"UMAP-Rank.png\"))\n",
    "print(p)\n",
    "dev.off()"
   ]
  },
  {
   "cell_type": "code",
   "execution_count": null,
   "metadata": {
    "vscode": {
     "languageId": "r"
    }
   },
   "outputs": [],
   "source": [
    "# 差异基因火山图\n",
    "Idents(seu) <- seu$Predict\n",
    "all_marker <- FindMarkers(seu, ident.1 = \"Rank+\", ident.2 = \"Rank-\")\n",
    "\n",
    "marker <- all_marker[all_marker$p_val <= pvalue_threshold, ]\n",
    "\n",
    "marker <- marker[order(marker$avg_log2FC, decreasing = TRUE), ]\n",
    "marker$gene <- rownames(marker)\n",
    "\n",
    "colnames(marker) <- c(\"p_val\", \"log2FoldChange\", \"pct.1\", \"pct.2\", \"padj\", \"gene\")\n",
    "saveRDS(marker, paste0(figurePath, \"marker.rds\"))\n",
    "\n",
    "\n",
    "p <- plot_Volcano_2(marker, label_geneset = c(head(marker, 5)[, \"gene\"], tail(marker, 5)[, \"gene\"]), logFC = 0.5)\n",
    "png(paste0(figurePath, \"DEGs Volcano.png\"), width = 600, height = 800)\n",
    "print(p)\n",
    "dev.off()"
   ]
  },
  {
   "cell_type": "code",
   "execution_count": null,
   "metadata": {
    "vscode": {
     "languageId": "r"
    }
   },
   "outputs": [],
   "source": [
    "#循环富集\n",
    "\n",
    "marker <- readRDS(paste0(figurePath, \"marker.rds\"))\n",
    "NRmarkers <- marker[marker$log2FoldChange >= log2FoldChange_threshold, \"gene\"]\n",
    "Rmarkers <- marker[marker$log2FoldChange <= -log2FoldChange_threshold, \"gene\"]\n",
    "\n",
    "NRmarkers <- list(NRmarkers)\n",
    "Rmarkers <- list(Rmarkers)\n",
    "\n",
    "\n",
    "datasets <- sapply(list.files(dataPath), function(x) {\n",
    "    return(strsplit(x, \"_\")[[1]][1])\n",
    "})\n",
    "datasets <- unique(unname(datasets))"
   ]
  },
  {
   "cell_type": "code",
   "execution_count": null,
   "metadata": {
    "vscode": {
     "languageId": "r"
    }
   },
   "outputs": [],
   "source": [
    "for (data in datasets) {\n",
    "    \n",
    "    exp <- read.csv(paste0(dataPath, data, \"_exp.csv\"), row.names = 1)\n",
    "    meta <- read.csv(paste0(dataPath, data, \"_meta.csv\"), row.names = 1)\n",
    "    exp <- as.matrix(exp)\n",
    "    meta[meta$Response%in%c(\"CRPR\"),\"Response\"]=\"R\"\n",
    "    meta[meta$Response%in%c(\"SD\",\"PD\"),\"Response\"]=\"NR\"\n",
    "\n",
    "    NRscore <- gsva(exp, gset.idx.list = NRmarkers, method = \"ssgsea\")\n",
    "    Rscore <- gsva(exp, gset.idx.list = Rmarkers, method = \"ssgsea\")\n",
    "\n",
    "    #富集\n",
    "    p1 <- GSEAfunc(meta, NRscore)\n",
    "    png(paste0(figurePath, data, \" NR genes enrich boxplot.png\"), width = 450, height = 450)\n",
    "    print(p1)\n",
    "    dev.off()\n",
    "    p1 <- GSEAfunc(meta, Rscore)\n",
    "    png(paste0(figurePath, data, \" R genes enrich boxplot.png\"), width = 450, height = 450)\n",
    "    print(p1)\n",
    "    dev.off()\n",
    "\n",
    "\n",
    "\n",
    "\n",
    "\n",
    "    ## 生存分析\n",
    "    data_combined <- cbind(meta, NRscore = as.numeric(NRscore))\n",
    "    data_combined <- cbind(data_combined, Rscore = as.numeric(Rscore))\n",
    "    NRscore_cutoff <- surv_cutpoint(data = data_combined, time = \"OS_time\", event = \"OS_status\", variables = \"NRscore\")$cutpoint[1, 1]\n",
    "    Rscore_cutoff <- surv_cutpoint(data = data_combined, time = \"OS_time\", event = \"OS_status\", variables = \"Rscore\")$cutpoint[1, 1]\n",
    "\n",
    "    data_combined$NRscore_group <- ifelse(data_combined$NRscore > NRscore_cutoff, \"High\", \"Low\")\n",
    "    data_combined$Rscore_group <- ifelse(data_combined$Rscore > Rscore_cutoff, \"High\", \"Low\")\n",
    "\n",
    "    fit1 <- survfit(Surv(time = data_combined$OS_time, event = data_combined$OS_status) ~ NRscore_group, data = data_combined)\n",
    "    fit2 <- survfit(Surv(time = data_combined$OS_time, event = data_combined$OS_status) ~ Rscore_group, data = data_combined)\n",
    "\n",
    "    p <- ggsurvplot(fit1,\n",
    "        data = data_combined,\n",
    "        pval = TRUE, # 如果你想显示p值\n",
    "        risk.table = TRUE\n",
    "    ) # 如果你想显示置信区间\n",
    "    png(paste0(figurePath, data, \" NR genes enrichment score with OS.png\"), width = 450, height = 450)\n",
    "    print(p)\n",
    "    dev.off()\n",
    "\n",
    "    p <- ggsurvplot(fit2,\n",
    "        data = data_combined,\n",
    "        pval = TRUE, # 如果你想显示p值\n",
    "        risk.table = TRUE\n",
    "    ) # 如果你想显示置信区间\n",
    "    png(paste0(figurePath, data, \" R genes enrichment score with OS.png\"), width = 450, height = 450)\n",
    "    print(p)\n",
    "    dev.off()\n",
    "    \n",
    "}"
   ]
  },
  {
   "cell_type": "markdown",
   "metadata": {},
   "source": [
    "## scRank预测亚群分布"
   ]
  },
  {
   "cell_type": "code",
   "execution_count": null,
   "metadata": {
    "vscode": {
     "languageId": "r"
    }
   },
   "outputs": [],
   "source": [
    "freq_table <- table(seu$seurat_clusters, seu$Predict)\n",
    "\n",
    "df <- as.data.frame(freq_table)\n",
    "cluster_totals <- aggregate(Freq ~ Var1, data = df, sum)\n",
    "\n",
    "df <- merge(df, cluster_totals, by = \"Var1\")\n",
    "\n",
    "df$Proportion <- df$Freq.x / df$Freq.y\n",
    "df=df[df$Var2==\"Rank+\",]\n",
    "df=df[order(df$Proportion,decreasing = T),] #根据scRank+细胞比例排序\n",
    "level=df$Var1"
   ]
  },
  {
   "cell_type": "code",
   "execution_count": null,
   "metadata": {
    "vscode": {
     "languageId": "r"
    }
   },
   "outputs": [],
   "source": [
    "df=as.data.frame(table(seu$seurat_clusters,seu$Predict))\n",
    "cluster_totals <- aggregate(Freq ~ Var1, data = df, sum)\n",
    "df <- merge(df, cluster_totals, by = \"Var1\")\n",
    "df$Proportion <- df$Freq.x / df$Freq.y\n",
    "colnames(df)=c(\"cluster\",\"Rank_Label\",\"number\",\"total_number\",\"Proportion\")\n",
    "df=df[df$Rank_Label!=\"Background\",]\n",
    "df$cluster=factor(df$cluster,levels=level)"
   ]
  },
  {
   "cell_type": "code",
   "execution_count": null,
   "metadata": {
    "vscode": {
     "languageId": "r"
    }
   },
   "outputs": [],
   "source": [
    "p=ggplot(data = df,aes(x=cluster,y=Proportion,fill=Rank_Label))+\n",
    "  geom_bar(stat = \"identity\")+\n",
    "    scale_fill_manual(values = c('Rank-'='#4cb1c4','Rank+'='#b5182b'),limits=c(\"Rank+\",\"Rank-\"))+theme_classic()+  \n",
    "    theme(panel.background = element_blank(),axis.line = element_line())\n",
    "\n",
    "png(paste0(figurePath, \"scRank cluster distrubution.png\"), width = 600, height = 800)\n",
    "print(p)\n",
    "dev.off()    "
   ]
  },
  {
   "cell_type": "markdown",
   "metadata": {},
   "source": [
    "## 特定亚群分析（CD8+ T细胞为例）"
   ]
  },
  {
   "cell_type": "code",
   "execution_count": null,
   "metadata": {
    "vscode": {
     "languageId": "r"
    }
   },
   "outputs": [],
   "source": [
    "subcluster=c('0','1','3','4','7','8','11')"
   ]
  },
  {
   "cell_type": "code",
   "execution_count": null,
   "metadata": {
    "vscode": {
     "languageId": "r"
    }
   },
   "outputs": [],
   "source": [
    "seu_CD8=subset(seu,seurat_clusters%in%subcluster)\n",
    "Idents(seu_CD8)=seu_CD8$Predict\n",
    "marker=FindMarkers(seu_CD8,ident.1 = \"Rank+\", ident.2 = \"Rank-\")\n",
    "marker <- marker[marker$p_val < pvalue_threshold, ]\n",
    "# 根据logFC排序\n",
    "marker <- marker[order(marker$avg_log2FC, decreasing = TRUE), ]\n",
    "colnames(marker)=c('p_val','log2FoldChange','pct.1','pct.2','padj')\n",
    "marker$gene=rownames(marker)\n",
    "\n",
    "p=plot_Volcano_2(marker,label_geneset=c(head(rownames(marker),5),tail(rownames(marker),5)),logFC=0.5)\n",
    "png(paste0(figurePath, \"subcluster_DEGs Volcano.png\"), width = 600, height = 800)\n",
    "print(p)\n",
    "dev.off()"
   ]
  }
 ],
 "metadata": {
  "kernelspec": {
   "display_name": "R",
   "language": "R",
   "name": "ir"
  },
  "language_info": {
   "codemirror_mode": "r",
   "file_extension": ".r",
   "mimetype": "text/x-r-source",
   "name": "R",
   "pygments_lexer": "r",
   "version": "4.3.1"
  }
 },
 "nbformat": 4,
 "nbformat_minor": 2
}
